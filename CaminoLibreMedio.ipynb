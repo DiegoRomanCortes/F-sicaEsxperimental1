import numpy as np
from matplotlib import pyplot as plt
k = 1380649e-23
T = 298
d = 310e-12
o = np.pi*d**2
pa = 101325
po = 10e-10

p = np.linspace(po,pa)

l = k*T/(np.sqrt(2)*p*o)

plt.plot(p,l)
plt.xlabel('Presión [Pa]')
plt.ylabel('Camino libre medio [m]')
plt.xscale('log')
plt.yscale('log')
plt.title('Gráfico ')
